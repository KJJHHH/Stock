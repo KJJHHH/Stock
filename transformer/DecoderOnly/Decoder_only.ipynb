{
 "cells": [
  {
   "cell_type": "markdown",
   "metadata": {},
   "source": [
    "# Import and Set"
   ]
  },
  {
   "cell_type": "code",
   "execution_count": 4,
   "metadata": {},
   "outputs": [
    {
     "name": "stdout",
     "output_type": "stream",
     "text": [
      "The autoreload extension is already loaded. To reload it, use:\n",
      "  %reload_ext autoreload\n",
      "x_train_len: 2842, valid_len: 149, test_len: 157\n"
     ]
    },
    {
     "data": {
      "text/plain": [
       "(torch.Size([128, 6, 10]), torch.Size([128, 2]), torch.Size([2842, 6, 100]))"
      ]
     },
     "execution_count": 4,
     "metadata": {},
     "output_type": "execute_result"
    }
   ],
   "source": [
    "%load_ext autoreload\n",
    "%autoreload 2\n",
    "\n",
    "import sys \n",
    "sys.path.append('../')\n",
    "import os\n",
    "import pickle\n",
    "import torch\n",
    "import torch.nn as nn\n",
    "import torch.optim as optim\n",
    "from tqdm import tqdm\n",
    "from utils import *\n",
    "from datas import *\n",
    "from models.Decoder_only import *\n",
    "\n",
    "device = torch.device('cuda' if torch.cuda.is_available() else 'cpu')\n",
    " \n",
    "stock_symbol = '5871.TW'\n",
    "end_date = '2024-12-31'\n",
    "\n",
    "num_class = 2\n",
    "batch_size = 128\n",
    "init = True\n",
    "fp16_training = True\n",
    "num_epochs = 200\n",
    "lr = 0.0001\n",
    "\n",
    "# Data\n",
    "trainloader, validloader, testloader, test_date, df, src = data(stock_symbol=stock_symbol, batch_size=batch_size)\n",
    "for x, y in trainloader:\n",
    "    break\n",
    "x.shape, y.shape, src.shape"
   ]
  },
  {
   "cell_type": "markdown",
   "metadata": {
    "id": "24AwH-nhes4f"
   },
   "source": [
    "## Init: Model, Criteria, Optimizer, Fp16, Previous Tarin Inofrmation"
   ]
  },
  {
   "cell_type": "code",
   "execution_count": 5,
   "metadata": {},
   "outputs": [
    {
     "name": "stdout",
     "output_type": "stream",
     "text": [
      "Accelerating\n",
      "Init model\n",
      "Last train epoch: 0  Last train lr: 0.0001   Min val loss: inf\n",
      "Accelerate Prepare\n"
     ]
    }
   ],
   "source": [
    "\"\"\"\n",
    "Choose if fp16 and define model\n",
    "pip install accelerate==0.2.0\n",
    "\"\"\"\n",
    "MODEL = \"Decoder-only\"\n",
    "# Model\n",
    "if fp16_training:\n",
    "    print('Accelerating')\n",
    "    from accelerate import Accelerator\n",
    "    accelerator = Accelerator()\n",
    "    device = accelerator.device\n",
    "    model = TransformerDecoderOnly(num_class=num_class)\n",
    "else:\n",
    "    model = TransformerDecoderOnly(num_class=num_class).to(device)\n",
    "        \n",
    "\n",
    "# Settings\n",
    "print(\"Init model\")\n",
    "lr = lr\n",
    "last_epoch = 0\n",
    "min_val_loss = float(\"inf\")\n",
    "if os.path.exists(f'Temp//{MODEL}_{stock_symbol}_LastTrainInfo.pk'):\n",
    "    print('Load from last train epoch')\n",
    "    with open(f'Temp//{MODEL}_class{num_class}_{stock_symbol}_LastTrainInfo.pk', 'rb') as f:\n",
    "        last_train_info = pickle.load(f)\n",
    "    lr = last_train_info['lr']\n",
    "    last_epoch = last_train_info['epoch']\n",
    "    min_val_loss = last_train_info['min val loss']\n",
    "    model.load_state_dict(torch.load(f'Temp//{MODEL}_class{num_class}_{stock_symbol}_checkpoint_LastTrainModel.pt'))\n",
    "    \n",
    "print(f'Last train epoch: {last_epoch}  '\n",
    "        f'Last train lr: {lr}   '\n",
    "        f'Min val loss: {min_val_loss}')\n",
    "\n",
    "criterion = nn.MSELoss()\n",
    "optimizer = optim.Adam(model.parameters(), lr=lr, weight_decay=0.00001)\n",
    "scheduler = optim.lr_scheduler.StepLR(optimizer, step_size=len(trainloader)*1, gamma=0.9)        \n",
    "\n",
    "if fp16_training:\n",
    "    print('Accelerate Prepare')    \n",
    "    model, optimizer, trainloader, validloader, scheduler = \\\n",
    "        accelerator.prepare(model, optimizer, trainloader, validloader, scheduler)\n",
    "        \n"
   ]
  },
  {
   "cell_type": "markdown",
   "metadata": {},
   "source": [
    "## Train"
   ]
  },
  {
   "cell_type": "code",
   "execution_count": 8,
   "metadata": {},
   "outputs": [
    {
     "data": {
      "text/plain": [
       "(torch.Size([2842, 6, 100]), torch.Size([1, 2842, 6, 100]))"
      ]
     },
     "execution_count": 8,
     "metadata": {},
     "output_type": "execute_result"
    }
   ],
   "source": [
    "src.shape, src.squeeze(2).unsqueeze(0).shape"
   ]
  },
  {
   "cell_type": "code",
   "execution_count": 3,
   "metadata": {},
   "outputs": [
    {
     "name": "stderr",
     "output_type": "stream",
     "text": [
      "  0%|          | 0/200 [00:00<?, ?it/s]"
     ]
    },
    {
     "name": "stderr",
     "output_type": "stream",
     "text": [
      "  0%|          | 1/200 [00:04<15:53,  4.79s/it]"
     ]
    },
    {
     "name": "stdout",
     "output_type": "stream",
     "text": [
      "New best model found in epoch 0 with val loss: 1.9583598375320435\n"
     ]
    },
    {
     "name": "stderr",
     "output_type": "stream",
     "text": [
      "  1%|          | 2/200 [00:09<15:46,  4.78s/it]"
     ]
    },
    {
     "name": "stdout",
     "output_type": "stream",
     "text": [
      "New best model found in epoch 1 with val loss: 1.8926794528961182\n"
     ]
    },
    {
     "name": "stderr",
     "output_type": "stream",
     "text": [
      "  4%|▍         | 9/200 [00:41<14:43,  4.62s/it]"
     ]
    },
    {
     "name": "stdout",
     "output_type": "stream",
     "text": [
      "New best model found in epoch 8 with val loss: 1.8767502307891846\n"
     ]
    },
    {
     "name": "stderr",
     "output_type": "stream",
     "text": [
      "  5%|▌         | 10/200 [00:46<15:02,  4.75s/it]"
     ]
    },
    {
     "name": "stdout",
     "output_type": "stream",
     "text": [
      "New best model found in epoch 9 with val loss: 1.8494727611541748\n"
     ]
    },
    {
     "name": "stderr",
     "output_type": "stream",
     "text": [
      "  6%|▌         | 11/200 [00:51<15:05,  4.79s/it]"
     ]
    },
    {
     "name": "stdout",
     "output_type": "stream",
     "text": [
      "New best model found in epoch 10 with val loss: 1.8404202461242676\n"
     ]
    },
    {
     "name": "stderr",
     "output_type": "stream",
     "text": [
      "  6%|▋         | 13/200 [01:01<15:06,  4.85s/it]"
     ]
    },
    {
     "name": "stdout",
     "output_type": "stream",
     "text": [
      "New best model found in epoch 12 with val loss: 1.81757390499115\n"
     ]
    },
    {
     "name": "stderr",
     "output_type": "stream",
     "text": [
      "  7%|▋         | 14/200 [01:06<14:56,  4.82s/it]"
     ]
    },
    {
     "name": "stdout",
     "output_type": "stream",
     "text": [
      "New best model found in epoch 13 with val loss: 1.7975507974624634\n"
     ]
    },
    {
     "name": "stderr",
     "output_type": "stream",
     "text": [
      "  8%|▊         | 16/200 [01:15<14:37,  4.77s/it]"
     ]
    },
    {
     "name": "stdout",
     "output_type": "stream",
     "text": [
      "New best model found in epoch 15 with val loss: 1.7748100757598877\n"
     ]
    },
    {
     "name": "stderr",
     "output_type": "stream",
     "text": [
      "  9%|▉         | 18/200 [01:25<14:25,  4.75s/it]"
     ]
    },
    {
     "name": "stdout",
     "output_type": "stream",
     "text": [
      "New best model found in epoch 17 with val loss: 1.7527772188186646\n"
     ]
    },
    {
     "name": "stderr",
     "output_type": "stream",
     "text": [
      " 10%|▉         | 19/200 [01:29<14:21,  4.76s/it]"
     ]
    },
    {
     "name": "stdout",
     "output_type": "stream",
     "text": [
      "New best model found in epoch 18 with val loss: 1.7443220615386963\n"
     ]
    },
    {
     "name": "stderr",
     "output_type": "stream",
     "text": [
      " 10%|█         | 20/200 [01:34<14:15,  4.75s/it]"
     ]
    },
    {
     "name": "stdout",
     "output_type": "stream",
     "text": [
      "New best model found in epoch 19 with val loss: 1.7418633699417114\n"
     ]
    },
    {
     "name": "stderr",
     "output_type": "stream",
     "text": [
      " 10%|█         | 21/200 [01:39<14:12,  4.76s/it]"
     ]
    },
    {
     "name": "stdout",
     "output_type": "stream",
     "text": [
      "New best model found in epoch 20 with val loss: 1.7275147438049316\n"
     ]
    },
    {
     "name": "stderr",
     "output_type": "stream",
     "text": [
      " 12%|█▏        | 23/200 [01:48<13:59,  4.74s/it]"
     ]
    },
    {
     "name": "stdout",
     "output_type": "stream",
     "text": [
      "New best model found in epoch 22 with val loss: 1.7265808582305908\n"
     ]
    },
    {
     "name": "stderr",
     "output_type": "stream",
     "text": [
      " 12%|█▏        | 24/200 [01:53<14:08,  4.82s/it]"
     ]
    },
    {
     "name": "stdout",
     "output_type": "stream",
     "text": [
      "New best model found in epoch 23 with val loss: 1.7159842252731323\n"
     ]
    },
    {
     "name": "stderr",
     "output_type": "stream",
     "text": [
      " 12%|█▎        | 25/200 [01:58<14:10,  4.86s/it]"
     ]
    },
    {
     "name": "stdout",
     "output_type": "stream",
     "text": [
      "New best model found in epoch 24 with val loss: 1.6905359029769897\n"
     ]
    },
    {
     "name": "stderr",
     "output_type": "stream",
     "text": [
      " 14%|█▎        | 27/200 [02:08<13:40,  4.74s/it]"
     ]
    },
    {
     "name": "stdout",
     "output_type": "stream",
     "text": [
      "New best model found in epoch 26 with val loss: 1.6746641397476196\n"
     ]
    },
    {
     "name": "stderr",
     "output_type": "stream",
     "text": [
      " 14%|█▍        | 29/200 [02:17<13:16,  4.66s/it]"
     ]
    },
    {
     "name": "stdout",
     "output_type": "stream",
     "text": [
      "New best model found in epoch 28 with val loss: 1.6682322025299072\n"
     ]
    },
    {
     "name": "stderr",
     "output_type": "stream",
     "text": [
      " 16%|█▌        | 31/200 [02:26<13:10,  4.68s/it]"
     ]
    },
    {
     "name": "stdout",
     "output_type": "stream",
     "text": [
      "New best model found in epoch 30 with val loss: 1.6632614135742188\n"
     ]
    },
    {
     "name": "stderr",
     "output_type": "stream",
     "text": [
      " 16%|█▌        | 32/200 [02:31<13:25,  4.79s/it]"
     ]
    },
    {
     "name": "stdout",
     "output_type": "stream",
     "text": [
      "New best model found in epoch 31 with val loss: 1.6542341709136963\n"
     ]
    },
    {
     "name": "stderr",
     "output_type": "stream",
     "text": [
      " 16%|█▋        | 33/200 [02:37<13:49,  4.97s/it]"
     ]
    },
    {
     "name": "stdout",
     "output_type": "stream",
     "text": [
      "New best model found in epoch 32 with val loss: 1.6466714143753052\n"
     ]
    },
    {
     "name": "stderr",
     "output_type": "stream",
     "text": [
      " 17%|█▋        | 34/200 [02:41<13:37,  4.93s/it]"
     ]
    },
    {
     "name": "stdout",
     "output_type": "stream",
     "text": [
      "New best model found in epoch 33 with val loss: 1.6397109031677246\n"
     ]
    },
    {
     "name": "stderr",
     "output_type": "stream",
     "text": [
      " 18%|█▊        | 35/200 [02:46<13:17,  4.83s/it]"
     ]
    },
    {
     "name": "stdout",
     "output_type": "stream",
     "text": [
      "New best model found in epoch 34 with val loss: 1.6389164924621582\n"
     ]
    },
    {
     "name": "stderr",
     "output_type": "stream",
     "text": [
      " 18%|█▊        | 36/200 [02:51<13:15,  4.85s/it]"
     ]
    },
    {
     "name": "stdout",
     "output_type": "stream",
     "text": [
      "New best model found in epoch 35 with val loss: 1.6316556930541992\n"
     ]
    },
    {
     "name": "stderr",
     "output_type": "stream",
     "text": [
      " 18%|█▊        | 37/200 [02:56<13:16,  4.89s/it]"
     ]
    },
    {
     "name": "stdout",
     "output_type": "stream",
     "text": [
      "New best model found in epoch 36 with val loss: 1.6268718242645264\n"
     ]
    },
    {
     "name": "stderr",
     "output_type": "stream",
     "text": [
      " 19%|█▉        | 38/200 [03:01<13:03,  4.84s/it]"
     ]
    },
    {
     "name": "stdout",
     "output_type": "stream",
     "text": [
      "New best model found in epoch 37 with val loss: 1.615032434463501\n"
     ]
    },
    {
     "name": "stderr",
     "output_type": "stream",
     "text": [
      " 20%|█▉        | 39/200 [03:05<12:52,  4.80s/it]"
     ]
    },
    {
     "name": "stdout",
     "output_type": "stream",
     "text": [
      "New best model found in epoch 38 with val loss: 1.6125450134277344\n"
     ]
    },
    {
     "name": "stderr",
     "output_type": "stream",
     "text": [
      " 20%|██        | 41/200 [03:15<12:45,  4.81s/it]"
     ]
    },
    {
     "name": "stdout",
     "output_type": "stream",
     "text": [
      "New best model found in epoch 40 with val loss: 1.6066936254501343\n"
     ]
    },
    {
     "name": "stderr",
     "output_type": "stream",
     "text": [
      " 21%|██        | 42/200 [03:20<12:39,  4.81s/it]"
     ]
    },
    {
     "name": "stdout",
     "output_type": "stream",
     "text": [
      "New best model found in epoch 41 with val loss: 1.5868661403656006\n"
     ]
    },
    {
     "name": "stderr",
     "output_type": "stream",
     "text": [
      " 23%|██▎       | 46/200 [03:39<12:32,  4.89s/it]"
     ]
    },
    {
     "name": "stdout",
     "output_type": "stream",
     "text": [
      "New best model found in epoch 45 with val loss: 1.580669641494751\n"
     ]
    },
    {
     "name": "stderr",
     "output_type": "stream",
     "text": [
      " 24%|██▍       | 48/200 [03:48<11:57,  4.72s/it]"
     ]
    },
    {
     "name": "stdout",
     "output_type": "stream",
     "text": [
      "New best model found in epoch 47 with val loss: 1.5682976245880127\n"
     ]
    },
    {
     "name": "stderr",
     "output_type": "stream",
     "text": [
      " 25%|██▌       | 50/200 [03:59<12:23,  4.96s/it]"
     ]
    },
    {
     "name": "stdout",
     "output_type": "stream",
     "text": [
      "New best model found in epoch 49 with val loss: 1.566779613494873\n"
     ]
    },
    {
     "name": "stderr",
     "output_type": "stream",
     "text": [
      " 26%|██▌       | 52/200 [04:08<11:52,  4.81s/it]"
     ]
    },
    {
     "name": "stdout",
     "output_type": "stream",
     "text": [
      "New best model found in epoch 51 with val loss: 1.555202841758728\n"
     ]
    },
    {
     "name": "stderr",
     "output_type": "stream",
     "text": [
      " 26%|██▋       | 53/200 [04:13<12:15,  5.00s/it]"
     ]
    },
    {
     "name": "stdout",
     "output_type": "stream",
     "text": [
      "New best model found in epoch 52 with val loss: 1.5541694164276123\n"
     ]
    },
    {
     "name": "stderr",
     "output_type": "stream",
     "text": [
      " 27%|██▋       | 54/200 [04:19<12:20,  5.07s/it]"
     ]
    },
    {
     "name": "stdout",
     "output_type": "stream",
     "text": [
      "New best model found in epoch 53 with val loss: 1.5514241456985474\n"
     ]
    },
    {
     "name": "stderr",
     "output_type": "stream",
     "text": [
      " 28%|██▊       | 55/200 [04:23<11:59,  4.96s/it]"
     ]
    },
    {
     "name": "stdout",
     "output_type": "stream",
     "text": [
      "New best model found in epoch 54 with val loss: 1.5497925281524658\n"
     ]
    },
    {
     "name": "stderr",
     "output_type": "stream",
     "text": [
      " 29%|██▉       | 58/200 [04:39<12:10,  5.14s/it]"
     ]
    },
    {
     "name": "stdout",
     "output_type": "stream",
     "text": [
      "New best model found in epoch 57 with val loss: 1.549411654472351\n"
     ]
    },
    {
     "name": "stderr",
     "output_type": "stream",
     "text": [
      " 30%|██▉       | 59/200 [04:44<11:55,  5.08s/it]"
     ]
    },
    {
     "name": "stdout",
     "output_type": "stream",
     "text": [
      "New best model found in epoch 58 with val loss: 1.5414636135101318\n"
     ]
    },
    {
     "name": "stderr",
     "output_type": "stream",
     "text": [
      " 30%|███       | 61/200 [04:53<11:38,  5.02s/it]"
     ]
    },
    {
     "name": "stdout",
     "output_type": "stream",
     "text": [
      "New best model found in epoch 60 with val loss: 1.5363045930862427\n"
     ]
    },
    {
     "name": "stderr",
     "output_type": "stream",
     "text": [
      " 36%|███▌      | 72/200 [05:48<10:44,  5.04s/it]"
     ]
    },
    {
     "name": "stdout",
     "output_type": "stream",
     "text": [
      "New best model found in epoch 71 with val loss: 1.535282850265503\n"
     ]
    },
    {
     "name": "stderr",
     "output_type": "stream",
     "text": [
      " 37%|███▋      | 74/200 [05:57<10:06,  4.81s/it]"
     ]
    },
    {
     "name": "stdout",
     "output_type": "stream",
     "text": [
      "New best model found in epoch 73 with val loss: 1.5328164100646973\n"
     ]
    },
    {
     "name": "stderr",
     "output_type": "stream",
     "text": [
      " 42%|████▏     | 84/200 [06:46<09:30,  4.92s/it]"
     ]
    },
    {
     "name": "stdout",
     "output_type": "stream",
     "text": [
      "New best model found in epoch 83 with val loss: 1.532764196395874\n"
     ]
    },
    {
     "name": "stderr",
     "output_type": "stream",
     "text": [
      " 44%|████▍     | 88/200 [07:06<09:26,  5.05s/it]"
     ]
    },
    {
     "name": "stdout",
     "output_type": "stream",
     "text": [
      "New best model found in epoch 87 with val loss: 1.5315158367156982\n"
     ]
    },
    {
     "name": "stderr",
     "output_type": "stream",
     "text": [
      " 53%|█████▎    | 106/200 [08:34<07:37,  4.86s/it]"
     ]
    },
    {
     "name": "stdout",
     "output_type": "stream",
     "text": [
      "New best model found in epoch 105 with val loss: 1.529775857925415\n"
     ]
    },
    {
     "name": "stderr",
     "output_type": "stream",
     "text": [
      " 57%|█████▋    | 114/200 [09:13<07:16,  5.08s/it]"
     ]
    },
    {
     "name": "stdout",
     "output_type": "stream",
     "text": [
      "New best model found in epoch 113 with val loss: 1.522719144821167\n"
     ]
    },
    {
     "name": "stderr",
     "output_type": "stream",
     "text": [
      " 73%|███████▎  | 146/200 [11:53<04:25,  4.91s/it]"
     ]
    },
    {
     "name": "stdout",
     "output_type": "stream",
     "text": [
      "New best model found in epoch 145 with val loss: 1.5207993984222412\n"
     ]
    },
    {
     "name": "stderr",
     "output_type": "stream",
     "text": [
      "100%|██████████| 200/200 [16:22<00:00,  4.91s/it]\n"
     ]
    }
   ],
   "source": [
    "\"\"\"\n",
    "--- Original shape when loading ---------\n",
    "batch_x: (batch_size, d_model, seqlen) \n",
    "src: (total_length, d_model, seq_len)\n",
    "--- Input shape of model ----------------\n",
    "batch_x: (batch_size, seq_len, d_model) \n",
    "src: (total_length, seq_len, d_model)   \n",
    "\"\"\"\n",
    "\n",
    "# Code for fp16\n",
    "src = src.squeeze(2).unsqueeze(0).to(device)\n",
    "for epoch in tqdm(range(last_epoch, num_epochs)):\n",
    "    # Training phase\n",
    "    model.train()\n",
    "    loss_train_e = 0\n",
    "    for batch_x, batch_y in trainloader: \n",
    "        optimizer.zero_grad() \n",
    "        batch_x = batch_x.permute(0, 2, 1)\n",
    "        outputs = model(batch_x)\n",
    "        loss = criterion(outputs, batch_y)\n",
    "        accelerator.backward(loss)\n",
    "        optimizer.step()\n",
    "        \n",
    "        loss_train_e += loss.item()\n",
    "        if epoch > 50:\n",
    "            scheduler.step()\n",
    "        \n",
    "    loss_train_e /= len(trainloader)\n",
    "    \n",
    "    loss_valid_e = 0\n",
    "    with torch.no_grad():\n",
    "        model.eval()\n",
    "        for batch_x_val, batch_y_val in validloader:\n",
    "            batch_x_val = batch_x_val.permute(0, 2, 1)\n",
    "            outputs_val = model(batch_x_val)\n",
    "            loss = criterion(outputs_val, batch_y_val)\n",
    "            loss_valid_e += loss.item()\n",
    "        loss_valid_e /= len(validloader)\n",
    "        \n",
    "        # Save model for each epoch\n",
    "        torch.save(model.state_dict(), f'Temp/{MODEL}_class{num_class}_{stock_symbol}_checkpoint_LastTrainModel.pt')\n",
    "        if loss_valid_e < min_val_loss:\n",
    "            min_val_loss = loss_valid_e\n",
    "            \n",
    "            # Save model for best eval result\n",
    "            print(f'New best model found in epoch {epoch} with val loss: {min_val_loss}')\n",
    "            torch.save(model.state_dict(), f'Model_Result/{MODEL}_class{num_class}_{stock_symbol}_best_model.pt')            \n",
    "    \n",
    "    # Save training information\n",
    "    with open(f'Temp/{MODEL}_class{num_class}_{stock_symbol}_LastTrainInfo.pk', 'wb') as f:\n",
    "        pickle.dump({'min val loss': min_val_loss, 'epoch': epoch, 'lr': optimizer.param_groups[0]['lr']}, f)\n",
    "        \n",
    "    \"\"\"\n",
    "    print(f'Epoch [{epoch}/{num_epochs}]',\n",
    "        f'Training Loss: {loss_train_e:.10f}',\n",
    "        f'Valid Loss: {loss_valid_e:.10f}')\n",
    "    \"\"\""
   ]
  }
 ],
 "metadata": {
  "colab": {
   "collapsed_sections": [
    "2dlPDr1feNdw",
    "N2GtucuTfVrD",
    "24AwH-nhes4f"
   ],
   "provenance": []
  },
  "kernelspec": {
   "display_name": "quant",
   "language": "python",
   "name": "python3"
  },
  "language_info": {
   "codemirror_mode": {
    "name": "ipython",
    "version": 3
   },
   "file_extension": ".py",
   "mimetype": "text/x-python",
   "name": "python",
   "nbconvert_exporter": "python",
   "pygments_lexer": "ipython3",
   "version": "3.12.9"
  }
 },
 "nbformat": 4,
 "nbformat_minor": 0
}
