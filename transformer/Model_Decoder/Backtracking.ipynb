{
 "cells": [
  {
   "cell_type": "markdown",
   "metadata": {},
   "source": [
    "# Import"
   ]
  },
  {
   "cell_type": "code",
   "execution_count": 16,
   "metadata": {},
   "outputs": [
    {
     "name": "stdout",
     "output_type": "stream",
     "text": [
      "The autoreload extension is already loaded. To reload it, use:\n",
      "  %reload_ext autoreload\n"
     ]
    }
   ],
   "source": [
    "%load_ext autoreload\n",
    "%autoreload 2\n",
    "\n",
    "import sys \n",
    "sys.path.append('../')\n",
    "import matplotlib.pyplot as plt\n",
    "import numpy as np\n",
    "import pickle, json\n",
    "import torch\n",
    "import pandas as pd\n",
    "from sklearn.preprocessing import StandardScaler\n",
    "from utils import *\n",
    "from utils_test import *\n",
    "from datas import *\n",
    "from models.Decoder_only import *\n",
    "\n",
    "device = torch.device('cuda' if torch.cuda.is_available() else 'cpu')\n",
    "\n",
    "stock_symbol = '5871.TW'\n",
    "end_date = '2024-12-31'\n",
    "\n",
    "num_class = 2\n",
    "batch_size = 128\n",
    "init = True\n",
    "fp16_training = True\n",
    "num_epochs = 200\n",
    "lr = 0.0001\n",
    "\n",
    "# Strategy\n",
    "short = False\n",
    "\n",
    "# Model\n",
    "MODEL = \"Decoder-only\"\n",
    "model = TransformerDecoderOnly(num_class=num_class).to(device)"
   ]
  },
  {
   "cell_type": "markdown",
   "metadata": {},
   "source": [
    "### Loss Result"
   ]
  },
  {
   "cell_type": "code",
   "execution_count": 17,
   "metadata": {},
   "outputs": [
    {
     "name": "stdout",
     "output_type": "stream",
     "text": [
      "1.5207993984222412\n"
     ]
    }
   ],
   "source": [
    "with open(f'Temp/{MODEL}_class{num_class}_{stock_symbol}_LastTrainInfo.pk', 'rb') as f:\n",
    "    infos = pickle.load(f)\n",
    "    print(infos['min val loss'])\n",
    "with open(f'Model_Result/{MODEL}_min_loss.json', 'a') as file:\n",
    "    json.dump({f'{MODEL}_class{num_class}_{stock_symbol}': infos['min val loss']}, file)\n",
    "    file.write('\\n')\n",
    "    \n"
   ]
  },
  {
   "cell_type": "markdown",
   "metadata": {},
   "source": [
    "### Data"
   ]
  },
  {
   "cell_type": "code",
   "execution_count": 18,
   "metadata": {},
   "outputs": [
    {
     "name": "stdout",
     "output_type": "stream",
     "text": [
      "x_train_len: 2847, valid_len: 149, test_len: 157\n",
      "torch.Size([64, 6, 10])\n"
     ]
    }
   ],
   "source": [
    "# Data\n",
    "trainloader, validloader, testloader, test_date, df, src = data()\n",
    "\n",
    "src = src.permute(0, 2, 1).to(device)\n",
    "x_valid = [x for x, y in validloader]\n",
    "x_valid = torch.cat(x_valid, dim = 0)\n",
    "for x, y in testloader:\n",
    "    print(x.shape)\n",
    "    break"
   ]
  },
  {
   "cell_type": "markdown",
   "metadata": {},
   "source": [
    "### Backtest "
   ]
  },
  {
   "cell_type": "code",
   "execution_count": 19,
   "metadata": {},
   "outputs": [],
   "source": [
    "def backtest_plot(normalise=False):\n",
    "    # Prediction\n",
    "    model.load_state_dict(torch.load(f'Model_Result/{MODEL}_class{num_class}_{stock_symbol}_best_model.pt'))\n",
    "    model.eval()    \n",
    "    y_pred, acc = test_encoder(model, testloader)\n",
    "    y_train_pred, acc = test_encoder(model, validloader)\n",
    "    y_pred_numpy = y_pred.cpu().numpy()\n",
    "    prediction = pd.DataFrame(y_pred_numpy)\n",
    "        \n",
    "    # Scaling with predicted valid set\n",
    "    if normalise:\n",
    "        y_train_numpy = y_train_pred.detach().cpu().numpy()\n",
    "        scaler = StandardScaler()\n",
    "        scaler.fit(y_train_numpy)\n",
    "        prediction = pd.DataFrame(scaler.transform(prediction))\n",
    "    \n",
    "    # Column name\n",
    "    if num_class == 1:\n",
    "        prediction.columns = ['pred_doc_1']\n",
    "    else:\n",
    "        prediction.columns = ['pred_do_1', 'pred_dc_1']\n",
    "\n",
    "    # Merge on date. \n",
    "    prediction['Date'] = test_date[:len(prediction)]\n",
    "    true_and_pred = pd.merge(df.reset_index(), prediction, on = 'Date', how = 'left')\n",
    "    true_and_pred['Close'] = true_and_pred['Close_origin']\n",
    "    \n",
    "    \"\"\"\n",
    "    NOTE:\n",
    "    1. Use today's data predict tmr's\n",
    "    2. y is y * 100. /= 100 here\n",
    "    3. d~ is all percentile change\n",
    "    \"\"\"\n",
    "    if num_class == 2:\n",
    "        true_and_pred['pred_o'] = (true_and_pred['Open'] * (1 + true_and_pred['pred_do_1']/100))\n",
    "        true_and_pred['pred_c'] = (true_and_pred['Close'] * (1 + true_and_pred['pred_dc_1']/100))\n",
    "        true_and_pred['pred_doc_1'] = \\\n",
    "            (true_and_pred['pred_c'] - true_and_pred['pred_o'])/true_and_pred['pred_o']\n",
    "    elif num_class == 1:\n",
    "        true_and_pred['pred_doc_1'] /= 100\n",
    "    true_and_pred['doc_1'] /= 100\n",
    "    \n",
    "    # Backtest\n",
    "    \"\"\"\n",
    "    NOTE:\n",
    "    For encoder-only and encoder-decoder since the second one need to drop last, \n",
    "    buy hold would not be the same\n",
    "    \"\"\"\n",
    "    asset_list = []\n",
    "    if num_class == 2:\n",
    "        df_backtest = true_and_pred[['Open', 'Close', 'doc_1', 'pred_doc_1', 'pred_do_1', 'pred_dc_1']].dropna()\n",
    "        acc = (np.sign(df_backtest['pred_doc_1'])==np.sign(df_backtest['doc_1'])).sum()/len(df_backtest)\n",
    "        asset = 1\n",
    "        asset_buyhold = 1\n",
    "        for index, (o, c, true, pred, _, _) in df_backtest.iterrows():\n",
    "            if pred > 0.004:\n",
    "                asset *= (1 + true)   \n",
    "            if short and pred < -0.004:\n",
    "                asset *= (1 - true)   \n",
    "            asset_buyhold *= (1 + true)\n",
    "            asset_list.append(asset)\n",
    "        # print(f'Buy Hold last asset: {asset_buyhold}')\n",
    "    else:\n",
    "        df_backtest = true_and_pred[['Close', 'pred_doc_1', 'doc_1']].dropna()\n",
    "        acc = (np.sign(df_backtest['pred_doc_1'])==np.sign(df_backtest['doc_1'])).sum()/len(df_backtest)\n",
    "        asset = 1\n",
    "        asset_buyhold = 1\n",
    "        for index, (c, pred, true) in df_backtest.iterrows():\n",
    "            # print(pred, true)\n",
    "            if pred > 0.004:\n",
    "                asset *= (1 + true)\n",
    "            if short and pred < -0.004:\n",
    "                asset *= (1 - true)\n",
    "            asset_buyhold *= (1 + true)\n",
    "            asset_list.append(asset)\n",
    "\n",
    "    print(f'Asset: {asset}')\n",
    "    plt.plot(asset_list, label = 'model')\n",
    "    plt.plot(df_backtest.reset_index()['Close']/df_backtest['Close'].iloc[0], label = 'buy hold')\n",
    "    plt.legend()\n",
    "    return y_pred, df_backtest"
   ]
  },
  {
   "cell_type": "code",
   "execution_count": 20,
   "metadata": {},
   "outputs": [
    {
     "name": "stderr",
     "output_type": "stream",
     "text": [
      "100%|██████████| 2/2 [00:00<00:00, 11.82it/s]\n",
      "100%|██████████| 2/2 [00:00<00:00, 19.12it/s]\n"
     ]
    },
    {
     "name": "stdout",
     "output_type": "stream",
     "text": [
      "Asset: 0.9295022456267484\n"
     ]
    },
    {
     "data": {
      "image/png": "[encoded data removed]",
      "text/plain": [
       "<Figure size 640x480 with 1 Axes>"
      ]
     },
     "metadata": {},
     "output_type": "display_data"
    }
   ],
   "source": [
    "y_pred, df_b = backtest_plot()\n",
    "plt.savefig(f'Model_Result/{MODEL}_class{num_class}_{stock_symbol.split(\".\")[0]}_backtest')\n",
    "torch.cuda.empty_cache()\n",
    "    "
   ]
  }
 ],
 "metadata": {
  "kernelspec": {
   "display_name": "quant",
   "language": "python",
   "name": "python3"
  },
  "language_info": {
   "codemirror_mode": {
    "name": "ipython",
    "version": 3
   },
   "file_extension": ".py",
   "mimetype": "text/x-python",
   "name": "python",
   "nbconvert_exporter": "python",
   "pygments_lexer": "ipython3",
   "version": "3.12.9"
  }
 },
 "nbformat": 4,
 "nbformat_minor": 2
}
