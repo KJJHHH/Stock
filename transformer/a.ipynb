{
 "cells": [
  {
   "cell_type": "code",
   "execution_count": 3,
   "metadata": {},
   "outputs": [
    {
     "name": "stdout",
     "output_type": "stream",
     "text": [
      "Original DataFrame:\n",
      "    A  B  C\n",
      "0  1  4  7\n",
      "1  2  5  8\n",
      "2  3  6  9\n"
     ]
    },
    {
     "data": {
      "text/plain": [
       "array([1, 4, 7])"
      ]
     },
     "execution_count": 3,
     "metadata": {},
     "output_type": "execute_result"
    }
   ],
   "source": [
    "import pandas as pd\n",
    "\n",
    "# Create a sample DataFrame\n",
    "df = pd.DataFrame({\n",
    "    'A': [1, 2, 3],\n",
    "    'B': [4, 5, 6],\n",
    "    'C': [7, 8, 9]\n",
    "})\n",
    "\n",
    "print(\"Original DataFrame:\\n\", df)\n",
    "\n",
    "df.values[0]\n",
    "\n"
   ]
  },
  {
   "cell_type": "code",
   "execution_count": 8,
   "metadata": {},
   "outputs": [
    {
     "name": "stdout",
     "output_type": "stream",
     "text": [
      "Original DataFrame:\n",
      "      A    B  C\n",
      "0  1.0  4.0  7\n",
      "1  2.0 -inf  8\n",
      "2  inf  6.0  9\n",
      "\n",
      "Infinity values (True = inf found):\n",
      "        A      B      C\n",
      "0  False  False  False\n",
      "1  False   True  False\n",
      "2   True  False  False\n"
     ]
    },
    {
     "name": "stderr",
     "output_type": "stream",
     "text": [
      "/tmp/ipykernel_59967/170682330.py:14: FutureWarning: DataFrame.applymap has been deprecated. Use DataFrame.map instead.\n",
      "  inf_values = df.applymap(np.isinf)\n"
     ]
    }
   ],
   "source": [
    "import pandas as pd\n",
    "import numpy as np\n",
    "\n",
    "# Create a sample DataFrame with NaN and infinity values\n",
    "df = pd.DataFrame({\n",
    "    'A': [1, 2, np.inf],\n",
    "    'B': [4, -np.inf, 6],\n",
    "    'C': [7, 8, 9]\n",
    "})\n",
    "\n",
    "print(\"Original DataFrame:\\n\", df)\n",
    "\n",
    "# Check for infinity values\n",
    "inf_values = df.applymap(np.isinf)\n",
    "\n",
    "print(\"\\nInfinity values (True = inf found):\\n\", inf_values)\n"
   ]
  },
  {
   "cell_type": "code",
   "execution_count": 7,
   "metadata": {},
   "outputs": [
    {
     "data": {
      "text/plain": [
       "DatetimeIndex(['2025-02-04 00:00:00+08:00', '2025-02-05 00:00:00+08:00',\n",
       "               '2025-02-06 00:00:00+08:00', '2025-02-07 00:00:00+08:00',\n",
       "               '2025-02-10 00:00:00+08:00', '2025-02-11 00:00:00+08:00',\n",
       "               '2025-02-12 00:00:00+08:00', '2025-02-13 00:00:00+08:00',\n",
       "               '2025-02-14 00:00:00+08:00', '2025-02-17 00:00:00+08:00',\n",
       "               '2025-02-18 00:00:00+08:00', '2025-02-19 00:00:00+08:00',\n",
       "               '2025-02-20 00:00:00+08:00', '2025-02-21 00:00:00+08:00',\n",
       "               '2025-02-24 00:00:00+08:00', '2025-02-25 00:00:00+08:00',\n",
       "               '2025-02-26 00:00:00+08:00', '2025-02-27 00:00:00+08:00',\n",
       "               '2025-03-04 00:00:00+08:00'],\n",
       "              dtype='datetime64[ns, Asia/Taipei]', name='Date', freq=None)"
      ]
     },
     "execution_count": 7,
     "metadata": {},
     "output_type": "execute_result"
    }
   ],
   "source": [
    "import yfinance as yf\n",
    "\n",
    "data = yf.Ticker(\"2330.TW\")\n",
    "data.history().index[:20]"
   ]
  }
 ],
 "metadata": {
  "kernelspec": {
   "display_name": "quant",
   "language": "python",
   "name": "python3"
  },
  "language_info": {
   "codemirror_mode": {
    "name": "ipython",
    "version": 3
   },
   "file_extension": ".py",
   "mimetype": "text/x-python",
   "name": "python",
   "nbconvert_exporter": "python",
   "pygments_lexer": "ipython3",
   "version": "3.12.9"
  }
 },
 "nbformat": 4,
 "nbformat_minor": 2
}
