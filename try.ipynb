{
 "cells": [
  {
   "cell_type": "code",
   "execution_count": 3,
   "metadata": {},
   "outputs": [
    {
     "name": "stdout",
     "output_type": "stream",
     "text": [
      "tensor([ True, False,  True, False,  True])\n",
      "tensor(105.)\n"
     ]
    },
    {
     "data": {
      "text/plain": [
       "105"
      ]
     },
     "execution_count": 3,
     "metadata": {},
     "output_type": "execute_result"
    }
   ],
   "source": [
    "import torch\n",
    "\n",
    "def compute_product(a, b, p=1):\n",
    "    mask = a > 0  # Create a mask where a[i] > 0\n",
    "    print(mask)\n",
    "    p *= torch.prod(b[mask] + 1)  # Multiply only selected elements\n",
    "    return p\n",
    "\n",
    "# Example tensors\n",
    "a = torch.tensor([1, -2, 3, 0, 5], dtype=torch.float32)\n",
    "b = torch.tensor([2, 3, 4, 5, 6], dtype=torch.float32)\n",
    "\n",
    "result = compute_product(a, b)\n",
    "print(result)  # Output: (2+1) * (4+1) * (6+1) = 3 * 5 * 7 = 105\n",
    "3*5*7"
   ]
  }
 ],
 "metadata": {
  "kernelspec": {
   "display_name": "quant",
   "language": "python",
   "name": "python3"
  },
  "language_info": {
   "codemirror_mode": {
    "name": "ipython",
    "version": 3
   },
   "file_extension": ".py",
   "mimetype": "text/x-python",
   "name": "python",
   "nbconvert_exporter": "python",
   "pygments_lexer": "ipython3",
   "version": "3.10.12"
  }
 },
 "nbformat": 4,
 "nbformat_minor": 2
}
